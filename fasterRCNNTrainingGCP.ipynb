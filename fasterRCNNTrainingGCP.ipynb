{
 "cells": [
  {
   "cell_type": "code",
   "execution_count": null,
   "metadata": {},
   "outputs": [],
   "source": [
    "\n",
    "\n",
    "from google.cloud import aiplatform\n",
    "\n",
    "aiplatform.init(\n",
    "    project=project,\n",
    "    location=location,\n",
    "    experiment=experiment,\n",
    "    staging_bucket=staging_bucket,\n",
    "    credentials=credentials,\n",
    "    encryption_spec_key_name=encryption_spec_key_name,\n",
    ")"
   ]
  }
 ],
 "metadata": {
  "language_info": {
   "name": "python"
  },
  "orig_nbformat": 4
 },
 "nbformat": 4,
 "nbformat_minor": 2
}
