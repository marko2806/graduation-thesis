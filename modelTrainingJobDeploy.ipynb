{
      "cells": [
            {
                  "attachments": {},
                  "cell_type": "markdown",
                  "metadata": {},
                  "source": [
                        "# Training on AWS SageMaker"
                  ]
            },
            {
                  "attachments": {},
                  "cell_type": "markdown",
                  "metadata": {},
                  "source": [
                        "In order to train model on AWS SageMakers, models need to be Dockerized and the Docker image needs to be deployed on an appropriate instance. \n",
                        "\n",
                        "Dataset is uploaded to an AWS S3 Bucket and SageMaker service needs a provided path to the data on that bucket. \n",
                        "\n",
                        "Models will be trained using GPU on ml.g4dn.xlarge instance.\n",
                        "\n",
                        "To obtain all the required permissions, a new role with permission to execute SageMaker service needs to be created.\n",
                        "Additionally, AWS secret key id and AWS secret key need to be added to '~/.aws/credentials' file"
                  ]
            },
            {
                  "cell_type": "code",
                  "execution_count": 1,
                  "metadata": {},
                  "outputs": [],
                  "source": [
                        "import sagemaker\n",
                        "from sagemaker.pytorch import PyTorch\n",
                        "from sagemaker.image_uris import retrieve \n",
                        "\n",
                        "# Set up S3 bucket and paths to input data and model artifacts\n",
                        "bucket_name = ...\n",
                        "prefix = \"sagemaker/SKU110K\"\n",
                        "\n",
                        "training_data_path = f's3://{bucket_name}/{prefix}'\n",
                        "model_artifacts_path = f's3://{bucket_name}/model-artifacts/'\n",
                        "\n",
                        "# Set up SageMaker session, role, and instance types\n",
                        "sagemaker_session = sagemaker.Session()\n",
                        "train_instance_type = 'ml.g4dn.xlarge'\n",
                        "\n",
                        "role = ..."
                  ]
            },
            {
                  "attachments": {},
                  "cell_type": "markdown",
                  "metadata": {},
                  "source": [
                        "Code to retrieve a Docker image used for training the model"
                  ]
            },
            {
                  "cell_type": "code",
                  "execution_count": null,
                  "metadata": {},
                  "outputs": [],
                  "source": [
                        "\n",
                        "training_image = retrieve(\"pytorch\", \n",
                        "                            region=\"eu-central-1\", \n",
                        "                            version=\"1.13.1\", \n",
                        "                            py_version=\"py39\", \n",
                        "                            instance_type=train_instance_type, \n",
                        "                            image_scope=\"training\")\n",
                        "print(training_image)\n"
                  ]
            },
            {
                  "attachments": {},
                  "cell_type": "markdown",
                  "metadata": {},
                  "source": [
                        "Code to invoke training job and for monitoring all logs related to the training job"
                  ]
            },
            {
                  "cell_type": "code",
                  "execution_count": null,
                  "metadata": {},
                  "outputs": [],
                  "source": [
                        "# Define the training job\n",
                        "estimator = PyTorch(\n",
                        "    image_uri=training_image,\n",
                        "    source_dir=\"code\",\n",
                        "    entry_point=\"train.py\",\n",
                        "    role=role,\n",
                        "    py_version=\"py39\",\n",
                        "    framework_version=\"1.13.1\",\n",
                        "    instance_count=1,\n",
                        "    instance_type=train_instance_type,\n",
                        "    output_path=model_artifacts_path,\n",
                        "    sagemaker_session=sagemaker_session,\n",
                        "    hyperparameters = {'epochs': 10, 'batch-size': 2, 'model': 'Faster_RCNN', 'sagemaker': True}\n",
                        ")\n",
                        "estimator.fit({'train': f's3://{bucket_name}/{prefix}',\n",
                        "                'test': f's3://{bucket_name}/{prefix}'}, logs=\"All\")"
                  ]
            }
      ],
      "metadata": {
            "kernelspec": {
                  "display_name": "dubuce2",
                  "language": "python",
                  "name": "python3"
            },
            "language_info": {
                  "codemirror_mode": {
                        "name": "ipython",
                        "version": 3
                  },
                  "file_extension": ".py",
                  "mimetype": "text/x-python",
                  "name": "python",
                  "nbconvert_exporter": "python",
                  "pygments_lexer": "ipython3",
                  "version": "3.9.6"
            },
            "orig_nbformat": 4
      },
      "nbformat": 4,
      "nbformat_minor": 2
}
