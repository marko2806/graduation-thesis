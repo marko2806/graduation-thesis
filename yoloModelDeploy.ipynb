{
 "cells": [
  {
   "cell_type": "code",
   "execution_count": 16,
   "metadata": {},
   "outputs": [
    {
     "name": "stderr",
     "output_type": "stream",
     "text": [
      "INFO:botocore.credentials:Found credentials in shared credentials file: ~/.aws/credentials\n"
     ]
    }
   ],
   "source": [
    "import boto3\n",
    "import sagemaker\n",
    "from sagemaker.pytorch import PyTorch\n",
    "\n",
    "# Set up S3 bucket and paths to input data and model artifacts\n",
    "bucket_name = \"store-objects-detection\"\n",
    "prefix = \"sagemaker/SKU110K\"\n",
    "\n",
    "training_data_path = f's3://{bucket_name}/{prefix}'\n",
    "model_artifacts_path = f's3://{bucket_name}/model-artifacts/'\n",
    "\n",
    "# Set up SageMaker session, role, and instance types\n",
    "sagemaker_session = sagemaker.Session()\n",
    "train_instance_type = 'ml.g4dn.xlarge'\n",
    "\n",
    "role = \"sagemaker-iam-role\""
   ]
  },
  {
   "cell_type": "code",
   "execution_count": 17,
   "metadata": {},
   "outputs": [
    {
     "name": "stdout",
     "output_type": "stream",
     "text": [
      "763104351884.dkr.ecr.eu-central-1.amazonaws.com/pytorch-training:1.13.1-gpu-py39\n"
     ]
    }
   ],
   "source": [
    "from sagemaker.image_uris import retrieve \n",
    "training_image = retrieve(\"pytorch\", \n",
    "                            region=\"eu-central-1\", \n",
    "                            version=\"1.13.1\", \n",
    "                            py_version=\"py39\", \n",
    "                            instance_type=train_instance_type, \n",
    "                            image_scope=\"training\")\n",
    "print(training_image)"
   ]
  },
  {
   "cell_type": "code",
   "execution_count": 18,
   "metadata": {},
   "outputs": [
    {
     "name": "stderr",
     "output_type": "stream",
     "text": [
      "INFO:sagemaker:Creating training-job with name: pytorch-training-2023-06-10-11-26-28-195\n"
     ]
    },
    {
     "name": "stdout",
     "output_type": "stream",
     "text": [
      "2023-06-10 11:26:35 Starting - Starting the training job...\n",
      "2023-06-10 11:26:52 Starting - Preparing the instances for training.."
     ]
    },
    {
     "ename": "KeyboardInterrupt",
     "evalue": "",
     "output_type": "error",
     "traceback": [
      "\u001b[1;31m---------------------------------------------------------------------------\u001b[0m",
      "\u001b[1;31mKeyboardInterrupt\u001b[0m                         Traceback (most recent call last)",
      "\u001b[1;32md:\\Diplomski\\graduation-thesis\\yoloModelDeploy.ipynb Cell 3\u001b[0m in \u001b[0;36m1\n\u001b[0;32m      <a href='vscode-notebook-cell:/d%3A/Diplomski/graduation-thesis/yoloModelDeploy.ipynb#W2sZmlsZQ%3D%3D?line=0'>1</a>\u001b[0m \u001b[39m# Define the training job\u001b[39;00m\n\u001b[0;32m      <a href='vscode-notebook-cell:/d%3A/Diplomski/graduation-thesis/yoloModelDeploy.ipynb#W2sZmlsZQ%3D%3D?line=1'>2</a>\u001b[0m estimator \u001b[39m=\u001b[39m PyTorch(\n\u001b[0;32m      <a href='vscode-notebook-cell:/d%3A/Diplomski/graduation-thesis/yoloModelDeploy.ipynb#W2sZmlsZQ%3D%3D?line=2'>3</a>\u001b[0m     image_uri\u001b[39m=\u001b[39mtraining_image,\n\u001b[0;32m      <a href='vscode-notebook-cell:/d%3A/Diplomski/graduation-thesis/yoloModelDeploy.ipynb#W2sZmlsZQ%3D%3D?line=3'>4</a>\u001b[0m     source_dir\u001b[39m=\u001b[39m\u001b[39m\"\u001b[39m\u001b[39mcode\u001b[39m\u001b[39m\"\u001b[39m,\n\u001b[1;32m   (...)\u001b[0m\n\u001b[0;32m     <a href='vscode-notebook-cell:/d%3A/Diplomski/graduation-thesis/yoloModelDeploy.ipynb#W2sZmlsZQ%3D%3D?line=11'>12</a>\u001b[0m     sagemaker_session\u001b[39m=\u001b[39msagemaker_session\n\u001b[0;32m     <a href='vscode-notebook-cell:/d%3A/Diplomski/graduation-thesis/yoloModelDeploy.ipynb#W2sZmlsZQ%3D%3D?line=12'>13</a>\u001b[0m )\n\u001b[1;32m---> <a href='vscode-notebook-cell:/d%3A/Diplomski/graduation-thesis/yoloModelDeploy.ipynb#W2sZmlsZQ%3D%3D?line=13'>14</a>\u001b[0m estimator\u001b[39m.\u001b[39;49mfit({\u001b[39m'\u001b[39;49m\u001b[39mtrain\u001b[39;49m\u001b[39m'\u001b[39;49m: \u001b[39mf\u001b[39;49m\u001b[39m'\u001b[39;49m\u001b[39ms3://\u001b[39;49m\u001b[39m{\u001b[39;49;00mbucket_name\u001b[39m}\u001b[39;49;00m\u001b[39m/\u001b[39;49m\u001b[39m{\u001b[39;49;00mprefix\u001b[39m}\u001b[39;49;00m\u001b[39m'\u001b[39;49m}, logs\u001b[39m=\u001b[39;49m\u001b[39m\"\u001b[39;49m\u001b[39mAll\u001b[39;49m\u001b[39m\"\u001b[39;49m)\n",
      "File \u001b[1;32mc:\\Users\\Marko\\anaconda3\\envs\\dubuce2\\lib\\site-packages\\sagemaker\\workflow\\pipeline_context.py:272\u001b[0m, in \u001b[0;36mrunnable_by_pipeline.<locals>.wrapper\u001b[1;34m(*args, **kwargs)\u001b[0m\n\u001b[0;32m    268\u001b[0m         \u001b[39mreturn\u001b[39;00m context\n\u001b[0;32m    270\u001b[0m     \u001b[39mreturn\u001b[39;00m _StepArguments(retrieve_caller_name(self_instance), run_func, \u001b[39m*\u001b[39margs, \u001b[39m*\u001b[39m\u001b[39m*\u001b[39mkwargs)\n\u001b[1;32m--> 272\u001b[0m \u001b[39mreturn\u001b[39;00m run_func(\u001b[39m*\u001b[39margs, \u001b[39m*\u001b[39m\u001b[39m*\u001b[39mkwargs)\n",
      "File \u001b[1;32mc:\\Users\\Marko\\anaconda3\\envs\\dubuce2\\lib\\site-packages\\sagemaker\\estimator.py:1163\u001b[0m, in \u001b[0;36mEstimatorBase.fit\u001b[1;34m(self, inputs, wait, logs, job_name, experiment_config)\u001b[0m\n\u001b[0;32m   1161\u001b[0m \u001b[39mself\u001b[39m\u001b[39m.\u001b[39mjobs\u001b[39m.\u001b[39mappend(\u001b[39mself\u001b[39m\u001b[39m.\u001b[39mlatest_training_job)\n\u001b[0;32m   1162\u001b[0m \u001b[39mif\u001b[39;00m wait:\n\u001b[1;32m-> 1163\u001b[0m     \u001b[39mself\u001b[39;49m\u001b[39m.\u001b[39;49mlatest_training_job\u001b[39m.\u001b[39;49mwait(logs\u001b[39m=\u001b[39;49mlogs)\n",
      "File \u001b[1;32mc:\\Users\\Marko\\anaconda3\\envs\\dubuce2\\lib\\site-packages\\sagemaker\\estimator.py:2311\u001b[0m, in \u001b[0;36m_TrainingJob.wait\u001b[1;34m(self, logs)\u001b[0m\n\u001b[0;32m   2309\u001b[0m \u001b[39m# If logs are requested, call logs_for_jobs.\u001b[39;00m\n\u001b[0;32m   2310\u001b[0m \u001b[39mif\u001b[39;00m logs \u001b[39m!=\u001b[39m \u001b[39m\"\u001b[39m\u001b[39mNone\u001b[39m\u001b[39m\"\u001b[39m:\n\u001b[1;32m-> 2311\u001b[0m     \u001b[39mself\u001b[39;49m\u001b[39m.\u001b[39;49msagemaker_session\u001b[39m.\u001b[39;49mlogs_for_job(\u001b[39mself\u001b[39;49m\u001b[39m.\u001b[39;49mjob_name, wait\u001b[39m=\u001b[39;49m\u001b[39mTrue\u001b[39;49;00m, log_type\u001b[39m=\u001b[39;49mlogs)\n\u001b[0;32m   2312\u001b[0m \u001b[39melse\u001b[39;00m:\n\u001b[0;32m   2313\u001b[0m     \u001b[39mself\u001b[39m\u001b[39m.\u001b[39msagemaker_session\u001b[39m.\u001b[39mwait_for_job(\u001b[39mself\u001b[39m\u001b[39m.\u001b[39mjob_name)\n",
      "File \u001b[1;32mc:\\Users\\Marko\\anaconda3\\envs\\dubuce2\\lib\\site-packages\\sagemaker\\session.py:4169\u001b[0m, in \u001b[0;36mSession.logs_for_job\u001b[1;34m(self, job_name, wait, poll, log_type)\u001b[0m\n\u001b[0;32m   4166\u001b[0m \u001b[39mif\u001b[39;00m state \u001b[39m==\u001b[39m LogState\u001b[39m.\u001b[39mCOMPLETE:\n\u001b[0;32m   4167\u001b[0m     \u001b[39mbreak\u001b[39;00m\n\u001b[1;32m-> 4169\u001b[0m time\u001b[39m.\u001b[39;49msleep(poll)\n\u001b[0;32m   4171\u001b[0m \u001b[39mif\u001b[39;00m state \u001b[39m==\u001b[39m LogState\u001b[39m.\u001b[39mJOB_COMPLETE:\n\u001b[0;32m   4172\u001b[0m     state \u001b[39m=\u001b[39m LogState\u001b[39m.\u001b[39mCOMPLETE\n",
      "\u001b[1;31mKeyboardInterrupt\u001b[0m: "
     ]
    }
   ],
   "source": [
    "# Define the training job\n",
    "estimator = PyTorch(\n",
    "    image_uri=training_image,\n",
    "    source_dir=\"code\",\n",
    "    entry_point=\"yolo.py\",\n",
    "    role=role,\n",
    "    py_version=\"py39\",\n",
    "    framework_version=\"1.13.1\",\n",
    "    instance_count=1,\n",
    "    instance_type=train_instance_type,\n",
    "    output_path=model_artifacts_path,\n",
    "    sagemaker_session=sagemaker_session\n",
    ")\n",
    "estimator.fit({'train': f's3://{bucket_name}/{prefix}'}, logs=\"All\")"
   ]
  },
  {
   "cell_type": "code",
   "execution_count": null,
   "metadata": {},
   "outputs": [],
   "source": []
  },
  {
   "cell_type": "code",
   "execution_count": null,
   "metadata": {},
   "outputs": [],
   "source": []
  },
  {
   "cell_type": "code",
   "execution_count": null,
   "metadata": {},
   "outputs": [],
   "source": []
  }
 ],
 "metadata": {
  "kernelspec": {
   "display_name": "Python 3",
   "language": "python",
   "name": "python3"
  },
  "language_info": {
   "codemirror_mode": {
    "name": "ipython",
    "version": 3
   },
   "file_extension": ".py",
   "mimetype": "text/x-python",
   "name": "python",
   "nbconvert_exporter": "python",
   "pygments_lexer": "ipython3",
   "version": "3.10.8"
  },
  "orig_nbformat": 4
 },
 "nbformat": 4,
 "nbformat_minor": 2
}
